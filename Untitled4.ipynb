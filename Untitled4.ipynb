{
 "cells": [
  {
   "cell_type": "markdown",
   "id": "8d4dbcf7",
   "metadata": {},
   "source": [
    "# 1.ödev\n",
    "## 1.soru: Koninin toplam yüzey alan\n"
   ]
  },
  {
   "cell_type": "code",
   "execution_count": 1,
   "id": "50913aa7",
   "metadata": {},
   "outputs": [
    {
     "name": "stdout",
     "output_type": "stream",
     "text": [
      "yarıçapını giriniz: 3\n",
      "boyu giriniz: 4\n",
      "Koninin toplam yüzey alanı=65.94\n"
     ]
    }
   ],
   "source": [
    "yarıçapı= int(input(\"yarıçapını giriniz: \"))\n",
    "uzunluk= int(input(\"boyu giriniz: \"))\n",
    "x= 3.14*yarıçapı*uzunluk+3.14*yarıçapı**2\n",
    "print(\"Koninin toplam yüzey alanı={}\". format(x))"
   ]
  },
  {
   "cell_type": "markdown",
   "id": "064bdcaa",
   "metadata": {},
   "source": [
    "## 2.soru: Silindir hacmi ve toplam alanı"
   ]
  },
  {
   "cell_type": "code",
   "execution_count": 5,
   "id": "565f3299",
   "metadata": {},
   "outputs": [
    {
     "name": "stdout",
     "output_type": "stream",
     "text": [
      "yarıçapını giriniz: 10\n",
      "boyu giriniz: 10\n",
      "Silindir hacmi=3140.0\n",
      "Silindirin toplam alanı= 1256.0\n"
     ]
    }
   ],
   "source": [
    "yarıçapı= int(input(\"yarıçapını giriniz: \"))\n",
    "uzunluk= int(input(\"boyu giriniz: \"))\n",
    "y= 3.14*uzunluk*yarıçapı**2\n",
    "r= 2*3.14*yarıçapı*uzunluk+2*3.14*yarıçapı**2\n",
    "print(\"Silindir hacmi={}\". format(y))\n",
    "print(\"Silindirin toplam alanı= {}\". format(r))"
   ]
  },
  {
   "cell_type": "markdown",
   "id": "9e7765f4",
   "metadata": {},
   "source": [
    "## 3.soru: Quadratic formula"
   ]
  },
  {
   "cell_type": "code",
   "execution_count": 9,
   "id": "8ad536ce",
   "metadata": {},
   "outputs": [
    {
     "name": "stdout",
     "output_type": "stream",
     "text": [
      "a değeri giriniz: 12\n",
      "b değeri giriniz: 1\n",
      "c değeri giriniz: 2\n",
      "delta -95 ÇÖZÜM YOK\n"
     ]
    }
   ],
   "source": [
    "a= int(input(\"a değeri giriniz: \"))\n",
    "b= int(input(\"b değeri giriniz: \"))\n",
    "c= int(input(\"c değeri giriniz: \"))\n",
    "dlta= (b**2)-4*a*c\n",
    "if dlta==0:\n",
    "    x1=-b/2*a\n",
    "    x2=-b/2*a\n",
    "    print(\"delta\",dlta,\"x1=\",x1,\"x2=\",x2)\n",
    "elif dlta<0:\n",
    "    print(\"delta\",dlta,\"ÇÖZÜM YOK\")\n",
    "elif dlta>0:\n",
    "    x1=-b+(dlta**0.5)/2*a\n",
    "    x2=-b-(dlta**0.5)/2*a\n",
    "    print(\"delta\",dlta,\"x1=\",x1,\"x2=\",x2)\n"
   ]
  },
  {
   "cell_type": "code",
   "execution_count": null,
   "id": "0bc32f4c",
   "metadata": {},
   "outputs": [],
   "source": []
  }
 ],
 "metadata": {
  "kernelspec": {
   "display_name": "Python 3 (ipykernel)",
   "language": "python",
   "name": "python3"
  },
  "language_info": {
   "codemirror_mode": {
    "name": "ipython",
    "version": 3
   },
   "file_extension": ".py",
   "mimetype": "text/x-python",
   "name": "python",
   "nbconvert_exporter": "python",
   "pygments_lexer": "ipython3",
   "version": "3.9.12"
  }
 },
 "nbformat": 4,
 "nbformat_minor": 5
}
